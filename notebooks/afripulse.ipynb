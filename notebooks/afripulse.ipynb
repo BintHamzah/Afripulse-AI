{
 "cells": [
  {
   "cell_type": "code",
   "execution_count": 45,
   "id": "bd20e597-d4b4-406f-afd2-db7c2c5f67d4",
   "metadata": {},
   "outputs": [
    {
     "name": "stdout",
     "output_type": "stream",
     "text": [
      "✅ NewsAPI key loaded: True\n"
     ]
    }
   ],
   "source": [
    "import os\n",
    "from dotenv import load_dotenv\n",
    "from pathlib import Path\n",
    "from openai import OpenAI\n",
    "import requests\n",
    "\n",
    "# Get current working directory (works in notebooks)\n",
    "cwd = Path().resolve()\n",
    "\n",
    "env_path = cwd / \".env\"\n",
    "if not env_path.exists():\n",
    "    env_path = cwd.parent / \".env\"\n",
    "\n",
    "load_dotenv(dotenv_path=env_path)\n",
    "openai_api = os.getenv(\"OPENAI_API_KEY\")\n",
    "client = OpenAI(api_key=openai_api)\n",
    "\n",
    "\n",
    "NEWS_API_KEY = os.getenv(\"NEWS_API_KEY\")\n",
    "\n",
    "\n",
    "# Check it loaded correctly\n",
    "print(\"✅ NewsAPI key loaded:\", bool(NEWS_API_KEY))\n"
   ]
  },
  {
   "cell_type": "code",
   "execution_count": 46,
   "id": "8a1a7d2b-080b-4bd4-9e08-5b9ac4b3308e",
   "metadata": {},
   "outputs": [],
   "source": [
    "def fetch_africa_news():\n",
    "    url = f\"https://newsapi.org/v2/everything?q=africa+startup+funding&language=en&sortBy=publishedAt&pageSize=50&apiKey={NEWS_API_KEY}\"\n",
    "    response = requests.get(url)\n",
    "    data = response.json()\n",
    "    print(\" Response JSON:\", data.get(\"status\", \"unknown\"))\n",
    "    return data.get(\"articles\", [])\n"
   ]
  },
  {
   "cell_type": "code",
   "execution_count": 47,
   "id": "e9c426c8-e81c-4a35-815e-c255fd49a971",
   "metadata": {},
   "outputs": [
    {
     "name": "stdout",
     "output_type": "stream",
     "text": [
      " Response JSON: ok\n",
      "Fetched 50 articles\n"
     ]
    }
   ],
   "source": [
    "news = fetch_africa_news()\n",
    "print(f\"Fetched {len(news)} articles\")\n"
   ]
  },
  {
   "cell_type": "code",
   "execution_count": 48,
   "id": "66a6113f-e9c5-42c6-abf3-c2b600634440",
   "metadata": {},
   "outputs": [],
   "source": [
    "def filter_africa_stories(articles, limit=10):\n",
    "    keywords = [\"africa\", \"nigeria\", \"kenya\", \"ghana\", \"south africa\", \"startup\", \"funding\", \"fintech\", \"investment\"]\n",
    "    filtered = []\n",
    "    for article in articles:\n",
    "        title = (article.get(\"title\") or \"\").lower()\n",
    "        description = (article.get(\"description\") or \"\").lower()\n",
    "        combined = f\"{title} {description}\"\n",
    "        if any(k in combined for k in keywords):\n",
    "            filtered.append(article)\n",
    "    print(f\"Filtered {len(filtered)} stories\")  # debug line\n",
    "    return filtered[:limit]\n"
   ]
  },
  {
   "cell_type": "code",
   "execution_count": 50,
   "id": "5523fd23-441e-4a62-8495-f05489874e58",
   "metadata": {},
   "outputs": [],
   "source": [
    "def summarize_article(title, content):\n",
    "    prompt = f\"Summarise this African startup news article in 200 words:\\n\\nTitle: {title}\\n\\nContent: {content}\"\n",
    "    completion = client.chat.completions.create(\n",
    "        model=\"gpt-4o-mini\",\n",
    "        messages=[{\"role\": \"user\", \"content\": prompt}]\n",
    "    )\n",
    "    return completion.choices[0].message.content.strip()"
   ]
  },
  {
   "cell_type": "code",
   "execution_count": 51,
   "id": "8f5e66a5-a08c-44c4-9566-aa2806d2ad8b",
   "metadata": {},
   "outputs": [
    {
     "name": "stdout",
     "output_type": "stream",
     "text": [
      "Fetching latest Africa startup news...\n",
      " Response JSON: ok\n",
      "Fetched 50 articles\n",
      "Filtered 20 stories\n",
      "Filtered to 10 Africa-related stories\n",
      "\n",
      "📰 Top Summaries:\n",
      "\n",
      "1. New “Salt Battery” Proves Energy Storage Exists, Again\n",
      "Aslym Energy, a US startup, is set to launch a pioneering sodium-ion energy storage solution designed to enhance and expedite the global transition to renewable energy sources. This innovative \"salt battery\" technology addresses the pressing need for efficient energy storage systems that can store renewable energy generated from sources like solar and wind. By leveraging sodium, a more abundant and environmentally friendly alternative to lithium, Aslym Energy aims to provide a sustainable and cost-effective solution to the challenges faced in energy storage. As the world moves toward cleaner energy, effective storage solutions are crucial for managing supply and demand, especially as reliance on renewable sources increases. The introduction of sodium-ion batteries may help overcome some limitations of traditional lithium-ion batteries, such as cost, resource scarcity, and environmental impact. Aslym Energy’s launch signals a significant step forward in the field of energy storage, promising to boost the availability and efficiency of renewable energy while supporting global sustainability goals. This development could represent a turning point in the energy landscape, fostering innovation and resilience in the renewable energy sector.\n",
      "https://cleantechnica.com/2025/10/15/new-salt-battery-proves-energy-storage-exists-again/\n",
      "\n",
      "2. AI artist-development startup Mngrs·ai raises $1m funding round\n",
      "Mngrs·ai, an African startup focused on artist development, has successfully raised $1 million in a funding round featuring investments from three prominent French footballers: Aurélien Tchouaméni, Jules Koundé, and Mike Maignan. The company has created an innovative platform that leverages artificial intelligence to assist musicians in refining their craft and effectively marketing their music. Through its technology, Mngrs·ai aims to enhance the creative process and provide artists with the tools they need to succeed in a competitive industry. The involvement of high-profile investors from the sports world highlights the growing interest in tech-driven solutions for the music industry. This funding will likely enable Mngrs·ai to further develop its platform and expand its reach, ultimately empowering more artists to leverage AI in their careers. As the startup continues to garner support, it positions itself at the intersection of technology and creativity, promising to transform how artists approach music development and promotion.\n",
      "http://musically.com/2025/10/15/ai-artist-development-startup-mngrs%c2%b7ai-raises-1m-funding-round/\n",
      "\n",
      "3. Nairobi hosts AfriLabs 10th annual gathering focused on Africa's innovative future\n",
      "The 10th AfriLabs Annual Gathering commenced in Nairobi, attracting a diverse group of innovators, policymakers, and investors, with participation exceeding 2,000 individuals from over 50 countries. This significant event is centered around Africa's innovative future, fostering collaboration and knowledge exchange among the continent's entrepreneurial ecosystem. Attendees are exploring various themes vital to advancing innovation in Africa, including technology, investment opportunities, and supporting startups. The gathering serves as a platform for networking and showcasing successful ventures, while also addressing challenges faced by the tech community. Through discussions and workshops, participants aim to identify strategies that can enhance Africa’s technological landscape and promote sustainable growth within the region. The event emphasizes the importance of creating an inclusive environment to nurture local talent and promote collaboration across borders. Overall, the AfriLabs Annual Gathering reaffirms the role of Nairobi as a hub for innovation and entrepreneurship, aiming to leverage collective expertise to drive progress and shape the continent’s future in a rapidly evolving global economy.\n",
      "https://www.standardmedia.co.ke/business/business/article/2001531823/nairobi-hosts-afrilabs-10th-annual-gathering-focused-on-africas-innovative-future\n",
      "\n",
      "4. KEMRI Announces Ksh516 million Gates Foundation-Funded Women's Health Research Project in Africa\n",
      "The Kenya Medical Research Institute (KEMRI) has announced a significant women's health research initiative, backed by a Ksh516 million grant from the Bill & Melinda Gates Foundation. This project aims to enhance women's health outcomes across Africa by focusing on various health challenges faced by women. The initiative underscores the need for tailored research that addresses specific health issues affecting women, thereby contributing to improved healthcare services and better health policies. KEMRI's efforts are expected to leverage advanced research methodologies and collaborations with local and international partners. This funding represents a commitment to advancing women's health equity and filling critical gaps in health research. The project aligns with global health priorities aimed at empowering women through improved access to healthcare and information. Researchers at KEMRI will investigate a range of topics, including maternal health, reproductive health, and non-communicable diseases. This comprehensive approach seeks to identify and implement solutions that are culturally relevant and sustainable within the African context. The initiative not only highlights the importance of women's health but also reinforces the necessity for ongoing investment in research to address health disparities in the region.\n",
      "http://www.kenyans.co.ke/news/117030-kemri-announces-ksh516-million-gates-foundation-funded-womens-health-research-project\n",
      "\n",
      "5. Finovate Global India: Inclusion, Digital Asset Innovation, and a Salute to Our Indian Alums\n",
      "In the latest edition of Finovate Global, the spotlight is on Indian fintech developments, particularly focusing on financial inclusion and digital innovation. At the 6th Global Fintech Fest in Mumbai, RBI Governor Sanjay Malhotra announced the launch of a digital currency sandbox aimed at fostering innovation in digital assets. This initiative seeks to provide a controlled environment for fintech companies to test new financial solutions while promoting broader accessibility to financial services. The RBI’s commitment to financial inclusion is further emphasized through various initiatives designed to integrate underserved populations into the formal financial ecosystem. The article also pays tribute to Indian alumni making strides in fintech, showcasing their contributions to advancing the sector. The convergence of regulatory frameworks and emerging technologies is positioned as a catalyst for substantial growth in India’s fintech landscape, paving the way for future developments. Overall, the piece highlights the importance of collaboration among stakeholders in driving inclusive finance and innovation, celebrating India's dynamic role in the global fintech arena.\n",
      "https://finovate.com/finovate-global-india-inclusion-digital-asset-innovation-and-a-salute-to-our-indian-alums/\n",
      "\n",
      "6. Here's the pitch deck that Point72-backed Heidi Health used to raise $65 million to battle in the AI scribe race\n",
      "Heidi Health, a promising startup specializing in ambient clinical documentation, recently secured $65 million in funding, backed by Point72. The company is positioning itself competitively within the AI scribe market, where it faces formidable rivals such as Abridge and Ambience Healthcare. The funds raised will primarily be used to enhance Heidi Health’s technology and expand its market reach, aiming to improve efficiency in clinical documentation processes. \n",
      "\n",
      "In an industry increasingly reliant on artificial intelligence to streamline medical processes, Heidi Health's innovative solutions are designed to alleviate the administrative burdens faced by healthcare providers. The pitch deck that facilitated this significant funding demonstrates the startup's potential and its strategic vision for growth in a competitive landscape. With this financial boost, Heidi Health is set to advance its product development and strengthen its position in the evolving healthcare technology sector. As the demand for effective clinical documentation solutions rises, Heidi Health’s earlier achievements and this new investment could position it as a key player in transforming the future of medical documentation.\n",
      "https://www.businessinsider.com/exclusive-pitch-deck-ai-scribe-heidi-health-raise-65-million-2025-10\n",
      "\n",
      "7. Heidi Health raises $65M to automate administrative tasks for doctors\n",
      "Heidi Health, an Australian healthcare AI startup, has successfully raised $65 million in early-stage funding to enhance its AI Care Partner, which streamlines administrative tasks for healthcare providers. The startup aims to alleviate the burden of non-clinical responsibilities on clinicians, allowing them to focus more on patient care. The investment will support the acceleration of product development and further refine the technology that automates various administrative functions. The funding round attracted significant interest, highlighting the growing demand for innovative solutions in the healthcare sector to boost efficiency and improve patient outcomes. Heidi Health's initiative is part of a broader trend in the healthcare industry, where startups are increasingly leveraging artificial intelligence to optimize operations within medical settings. By utilizing AI to assist with tasks such as documentation and scheduling, Heidi Health aims to revolutionize the way healthcare providers manage their workloads. The company's success is indicative of a larger movement towards technological integration in healthcare, with the potential to significantly enhance the efficiency of medical practices across the globe. This funding marks a significant milestone for Heidi Health as it positions itself as a key player in the health technology landscape.\n",
      "https://siliconangle.com/2025/10/06/heidi-health-raises-65m-automate-administrative-tasks-doctors/\n",
      "\n",
      "8. How transportation startups feel about Trump 2.0\n",
      "In light of Trump's administration's executive orders pertaining to drone delivery and air taxis, African transportation startups are experiencing a wave of optimism. These directives aim to accelerate the integration of innovative transportation technologies, prompting startups to revise and enhance their product development timelines. Companies are now setting ambitious targets, anticipating faster regulatory approvals and increased investment opportunities. \n",
      "\n",
      "Startups are particularly excited about the potential for drones to revolutionize logistics, especially in regions with infrastructural challenges. With improved access to funding and resources, many are innovating in areas like urban transportation and last-mile delivery. The interest in air taxis suggests a future where aerial transport could alleviate congestion and provide quicker transit solutions, especially in densely populated areas.\n",
      "\n",
      "Entrepreneurs express a cautious optimism, acknowledging the potential benefits while remaining aware of the regulatory hurdles that could arise. Overall, Trump's policies are seen as a catalyst for growth and innovation in the African transportation sector, encouraging startups to push boundaries and redefine how people and goods move across the continent. The excitement reflects a broader trend toward embracing technological advancements in transportation, positioning Africa as a potential leader in the industry.\n",
      "https://fortune.com/2025/10/02/transportation-startups-trump-2-0-upsummit/\n",
      "\n",
      "9. Upfront Secures $10 Million to Grow Financial Operating System for MENA SMBs\n",
      "Dubai-based FinTech startup Upfront has raised $10 million in a pre-seed funding round to develop its innovative financial operating system designed for small- to medium-sized businesses (SMBs) in the Middle East and North Africa (MENA) region. This funding will enable Upfront to enhance its offerings and expand its reach within the rapidly growing SMB sector, which is increasingly in need of tailored financial solutions. The startup aims to streamline financial processes, improve accessibility to financial tools, and foster growth for MENA-focused SMBs. By leveraging technology, Upfront seeks to address the unique challenges faced by these businesses, supporting them in managing their finances more effectively and efficiently. The investment reflects confidence in the startup's vision and the potential of the MENA SMB market, which is vital for economic growth in the region. Upfront's financial operating system positions the company as an essential player in the evolving landscape of FinTech solutions tailored for SMBs, poised for further development and expansion in the coming years.\n",
      "https://biztoc.com/x/8d0b735df40308e4\n",
      "\n",
      "10. Upfront Secures $10 Million to Grow Financial Operating System for MENA SMBs\n",
      "Dubai-based FinTech startup Upfront has successfully raised $10 million in a pre-seed funding round to enhance its innovative financial operating system aimed at small- to medium-sized businesses (SMBs) in the Middle East and North Africa (MENA) region. The funding will primarily be utilized to expand Upfront's services, which are designed to streamline financial operations for SMBs, making it easier for them to manage their finances effectively. This development comes at a time when the demand for efficient financial tools is growing among SMBs in MENA, as many seek solutions to improve their financial management and operational efficiency. Upfront’s platform is set to offer a user-friendly interface and integrated features that cater specifically to the needs of local businesses. The investment reflects a significant opportunity for growth in the FinTech space within the region, as many SMBs grapple with traditional banking and financial processes. With this new capital, Upfront aims to establish itself as a pivotal player in the MENA FinTech landscape, ultimately supporting the financial health and sustainability of small businesses in the area.\n",
      "http://www.pymnts.com/smbs/2025/upfront-secures-10-million-dollars-grow-financial-operating-system-mena-smbs/\n"
     ]
    }
   ],
   "source": [
    "if __name__ == \"__main__\":\n",
    "    print(\"Fetching latest Africa startup news...\")\n",
    "    news = fetch_africa_news()\n",
    "    print(f\"Fetched {len(news)} articles\")\n",
    "\n",
    "    filtered_news = filter_africa_stories(news)\n",
    "    print(f\"Filtered to {len(filtered_news)} Africa-related stories\")\n",
    "\n",
    "    summaries = []\n",
    "    for item in filtered_news[:10]:\n",
    "        summary = summarize_article(item[\"title\"], item.get(\"description\", \"\"))\n",
    "        summaries.append({\n",
    "            \"title\": item[\"title\"],\n",
    "            \"url\": item[\"url\"],\n",
    "            \"summary\": summary\n",
    "        })\n",
    "\n",
    "    print(\"\\n📰 Top Summaries:\")\n",
    "    for i, s in enumerate(summaries, 1):\n",
    "        print(f\"\\n{i}. {s['title']}\\n{s['summary']}\\n{s['url']}\")"
   ]
  },
  {
   "cell_type": "code",
   "execution_count": null,
   "id": "cee4b606-21d5-49a3-bdb4-1db3cf2f5c74",
   "metadata": {},
   "outputs": [],
   "source": []
  },
  {
   "cell_type": "code",
   "execution_count": 1,
   "id": "d2faa16a-ea27-4fe6-b25a-230994ebacba",
   "metadata": {},
   "outputs": [
    {
     "name": "stdout",
     "output_type": "stream",
     "text": [
      "Root directory: C:\\Users\\hamza\\OneDrive\\Documents\\afripulse-ai\n",
      "sys.path now contains: ['C:\\\\Users\\\\hamza\\\\OneDrive\\\\Documents\\\\afripulse-ai\\\\venv\\\\Lib\\\\site-packages\\\\win32\\\\lib', 'C:\\\\Users\\\\hamza\\\\OneDrive\\\\Documents\\\\afripulse-ai\\\\venv\\\\Lib\\\\site-packages\\\\Pythonwin', 'C:\\\\Users\\\\hamza\\\\OneDrive\\\\Documents\\\\afripulse-ai']\n"
     ]
    }
   ],
   "source": [
    "import sys\n",
    "from pathlib import Path\n",
    "\n",
    "# Find the project root (one level above this notebook)\n",
    "root_dir = Path().resolve().parent  # if notebook is inside /notebooks\n",
    "print(\"Root directory:\", root_dir)\n",
    "\n",
    "# Add the root to sys.path if not already there\n",
    "if str(root_dir) not in sys.path:\n",
    "    sys.path.append(str(root_dir))\n",
    "\n",
    "# Verify\n",
    "print(\"sys.path now contains:\", sys.path[-3:])\n"
   ]
  },
  {
   "cell_type": "code",
   "execution_count": 2,
   "id": "a9987735-ea11-49f8-a3eb-9bf565bb934b",
   "metadata": {},
   "outputs": [
    {
     "name": "stdout",
     "output_type": "stream",
     "text": [
      "✅ OPENAI_API_KEY loaded: True\n"
     ]
    }
   ],
   "source": [
    "from dotenv import load_dotenv\n",
    "from pathlib import Path\n",
    "import os\n",
    "from openai import OpenAI\n",
    "import requests\n",
    "\n",
    "# Point to your project root\n",
    "env_path = Path().resolve().parent / \".env\"  # if notebook is inside /notebooks\n",
    "if not env_path.exists():\n",
    "    env_path = Path().resolve() / \".env\"  # if notebook is already in root\n",
    "\n",
    "load_dotenv(dotenv_path=env_path)\n",
    "client = OpenAI(api_key=os.getenv(\"OPENAI_API_KEY\"))\n",
    "\n",
    "NEWS_API_KEY = os.getenv(\"NEWS_API_KEY\")\n",
    "print(\"✅ OPENAI_API_KEY loaded:\", bool(os.getenv(\"OPENAI_API_KEY\")))\n"
   ]
  },
  {
   "cell_type": "code",
   "execution_count": 3,
   "id": "df38a1d3-1852-4df9-82bc-039fb5ed0c99",
   "metadata": {},
   "outputs": [
    {
     "name": "stdout",
     "output_type": "stream",
     "text": [
      "Response status: ok\n",
      "Successfully fetched 50 articles.\n",
      "Saved a local copy of fetched news.\n"
     ]
    }
   ],
   "source": [
    "from src.fetchNews import fetch_africa_news\n",
    "articles = fetch_africa_news()\n"
   ]
  },
  {
   "cell_type": "code",
   "execution_count": 9,
   "id": "75a64e30-7440-4331-bc28-f9db0074feec",
   "metadata": {},
   "outputs": [
    {
     "name": "stdout",
     "output_type": "stream",
     "text": [
      "Response status: ok\n",
      "Successfully fetched 50 articles.\n",
      "Saved a local copy of fetched news.\n",
      "Filtered 20 stories\n",
      "10\n",
      "US startup Aslym Energy is introducing a sodium-ion energy storage solution, referred to as a \"salt battery,\" to enhance energy storage capabilities. This innovation is designed to support and accelerate the transition to renewable energy globally. The launch underscores the growing importance of effective energy storage technology in combating climate change.\n"
     ]
    }
   ],
   "source": [
    "from src.fetchNews import fetch_africa_news\n",
    "from src.filterNews import filter_africa_stories\n",
    "from src.sumarizeNews import summarize_article\n",
    "\n",
    "articles = fetch_africa_news()\n",
    "filtered = filter_africa_stories(articles)\n",
    "print(len(filtered))\n",
    "\n",
    "summary = summarize_article(filtered[0][\"title\"], filtered[0][\"description\"])\n",
    "print(summary)\n"
   ]
  },
  {
   "cell_type": "code",
   "execution_count": 10,
   "id": "cb60c016-e095-499c-b2fe-8ddd91a49e10",
   "metadata": {},
   "outputs": [],
   "source": [
    "import datetime\n",
    "from pathlib import Path\n",
    "\n",
    "def generate_weekly_digest(summaries):\n",
    "    today = datetime.date.today().strftime(\"%B %d, %Y\")\n",
    "    md_content = f\"# AfriPulse Weekly Digest – {today}\\n\\n\"\n",
    "\n",
    "    for i, story in enumerate(summaries, 1):\n",
    "        md_content += f\"### {i}. [{story['title']}]({story['url']})\\n{story['summary']}\\n\\n\"\n",
    "\n",
    "    output_dir = Path(__file__).resolve().parent.parent / \"outputs\"\n",
    "    output_dir.mkdir(exist_ok=True)\n",
    "    output_path = output_dir / \"weeklyDigest.md\"\n",
    "\n",
    "    with open(output_path, \"w\", encoding=\"utf-8\") as f:\n",
    "        f.write(md_content)\n",
    "\n",
    "    print(f\"Weekly digest saved to {output_path}\")\n"
   ]
  },
  {
   "cell_type": "code",
   "execution_count": 8,
   "id": "17aadabf-8eee-47d1-9a27-205b4c991bdd",
   "metadata": {},
   "outputs": [
    {
     "name": "stdout",
     "output_type": "stream",
     "text": [
      "^C\n"
     ]
    }
   ],
   "source": [
    "!streamlit run ../dashboard.py\n"
   ]
  },
  {
   "cell_type": "code",
   "execution_count": null,
   "id": "a042d614-ccc3-4046-9cd2-682511882648",
   "metadata": {},
   "outputs": [],
   "source": []
  },
  {
   "cell_type": "code",
   "execution_count": null,
   "id": "f03443c5-fcd9-4487-9c54-bd2fd4184c41",
   "metadata": {},
   "outputs": [],
   "source": []
  }
 ],
 "metadata": {
  "kernelspec": {
   "display_name": "Python 3 (ipykernel)",
   "language": "python",
   "name": "python3"
  },
  "language_info": {
   "codemirror_mode": {
    "name": "ipython",
    "version": 3
   },
   "file_extension": ".py",
   "mimetype": "text/x-python",
   "name": "python",
   "nbconvert_exporter": "python",
   "pygments_lexer": "ipython3",
   "version": "3.12.6"
  }
 },
 "nbformat": 4,
 "nbformat_minor": 5
}
